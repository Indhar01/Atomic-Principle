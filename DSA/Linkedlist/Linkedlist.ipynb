{
 "cells": [
  {
   "cell_type": "markdown",
   "metadata": {},
   "source": []
  },
  {
   "attachments": {},
   "cell_type": "markdown",
   "metadata": {},
   "source": [
    "## Linked List\n",
    "\n",
    "> A linked list is a linear data structure, in which the elements are not stored at contiguous memory locations. The elements in a linked list are linked using pointers as shown in the below image:\n",
    "\n",
    "![Linkedlist Data Structure](https://media.geeksforgeeks.org/wp-content/cdn-uploads/gq/2013/03/Linkedlist.png \"Click to enlarge\")\n",
    "\n"
   ]
  },
  {
   "cell_type": "code",
   "execution_count": 1,
   "metadata": {},
   "outputs": [],
   "source": [
    "#Create\n",
    "class Node():\n",
    "    def __init__(self,data) -> None:\n",
    "        self.data=data\n",
    "        self.next=None\n",
    "\n",
    "class Linkedlist():\n",
    "    def __init__(self) -> None:\n",
    "        self.head=None\n",
    "\n",
    "    #insertion\n",
    "\n",
    "    # def push(self,data) -> None:\n",
    "    #     new=Node(data)\n",
    "    #     new.next=self.head\n",
    "    #     self.head=new\n",
    "\n",
    "    def append(self,data)->None:\n",
    "        new=Node(data)\n",
    "        if self.head==None:\n",
    "            self.head=new\n",
    "            return\n",
    "        last=self.head\n",
    "        while (last.next):\n",
    "            last=last.next\n",
    "\n",
    "        last.next=new\n",
    "\n",
    "    \n",
    "\n",
    "    def begin(self,data):\n",
    "        new=Node(data)\n",
    "        new.next=self.head\n",
    "        \n",
    "        self.head=new\n",
    "\n",
    "    def after(self,value,data):\n",
    "        new=Node(data)\n",
    "        if self.head is None:\n",
    "            return\n",
    "        item=self.head\n",
    "        if item.data==value:\n",
    "            new.next=item.next\n",
    "            item.next=new\n",
    "            return\n",
    "\n",
    "        \n",
    "        while(item):\n",
    "            \n",
    "            if item.data==value:\n",
    "                new.next=item.next\n",
    "                item.next=new\n",
    "                return\n",
    "            item=item.next\n",
    "\n",
    "    def before(self,value,data):\n",
    "        new=Node(data)\n",
    "        if self.head is None:\n",
    "            return\n",
    "        item=self.head\n",
    "        if item.data==value:\n",
    "            new.next=item\n",
    "            self.head=new\n",
    "            return\n",
    "        \n",
    "        while item:\n",
    "            if item.data==value:\n",
    "                prev.next=new\n",
    "                new.next=item\n",
    "                \n",
    "                return\n",
    "            prev=item\n",
    "            item=item.next\n",
    "        \n",
    "    def convert(self,arr):\n",
    "        if self.head is None:\n",
    "                new=Node(arr[0])\n",
    "                self.head=new\n",
    "        \n",
    "        \n",
    "        for i in range(1,len(arr)):\n",
    "            ll.append(arr[i])\n",
    "            \n",
    "    def remove(self,data)->None:\n",
    "        if self.head is None:\n",
    "            return\n",
    "        item=self.head\n",
    "        if item.data==data:\n",
    "            self.head=item.next\n",
    "            \n",
    "            return\n",
    "        \n",
    "        while(item):\n",
    "            if item.data==data:\n",
    "                break\n",
    "            prev=item\n",
    "            item=item.next\n",
    "        if item is None:\n",
    "            return\n",
    "        \n",
    "        prev.next=item.next\n",
    "        item=None\n",
    "\n",
    "    def remove_node(self,pos):\n",
    "        if self.head is None:\n",
    "            return\n",
    "        count=0\n",
    "        node=self.head\n",
    "        while node:\n",
    "            if count==pos:\n",
    "                ll.remove(node.data)\n",
    "                return\n",
    "            count+=1\n",
    "            node=node.next        \n",
    "        \n",
    "        \n",
    "    def printList(self):\n",
    "        temp = self.head\n",
    "        while (temp):\n",
    "            if temp.next != None:\n",
    "                print(temp.data,end=\"-> \")\n",
    "            else:\n",
    "                print(temp.data,end=\"-> Null\")\n",
    "            temp = temp.next"
   ]
  },
  {
   "cell_type": "code",
   "execution_count": 2,
   "metadata": {},
   "outputs": [
    {
     "name": "stdout",
     "output_type": "stream",
     "text": [
      "1-> 2-> 3-> 4-> 5-> 6-> 7-> Null\n",
      "1-> 2-> 3-> 4-> 5-> 6-> Null"
     ]
    }
   ],
   "source": [
    "\n",
    "ll=Linkedlist()\n",
    "ll.append(5)\n",
    "ll.append(6)\n",
    "ll.append(7)\n",
    "ll.begin(4)\n",
    "ll.before(4,2)\n",
    "ll.after(2,3)\n",
    "\n",
    "ll.begin(1)\n",
    "ll.printList()\n",
    "print()\n",
    "ll.remove_node(6)\n",
    "ll.printList()\n",
    "\n",
    "\n",
    "\n"
   ]
  },
  {
   "cell_type": "code",
   "execution_count": 78,
   "metadata": {},
   "outputs": [
    {
     "name": "stdout",
     "output_type": "stream",
     "text": [
      "1-> 2-> 3-> 4-> 5-> 6-> Null"
     ]
    }
   ],
   "source": [
    "ll=Linkedlist()\n",
    "l=[1,2,3,4,5,6]\n",
    "ll.convert(l)\n",
    "ll.printList()"
   ]
  },
  {
   "attachments": {},
   "cell_type": "markdown",
   "metadata": {},
   "source": [
    "## Circular linked list\n",
    "\n",
    "> The **circular linked list**  is a linked list where all nodes are connected to form a circle. In a circular linked list, the first node and the last node are connected to each other which forms a circle. There is no NULL at the end.\n",
    "\n",
    "\n",
    "\n",
    "![Circular Linked List](https://media.geeksforgeeks.org/wp-content/uploads/CircularLinkeList.png)"
   ]
  }
 ],
 "metadata": {
  "kernelspec": {
   "display_name": "Python 3",
   "language": "python",
   "name": "python3"
  },
  "language_info": {
   "codemirror_mode": {
    "name": "ipython",
    "version": 3
   },
   "file_extension": ".py",
   "mimetype": "text/x-python",
   "name": "python",
   "nbconvert_exporter": "python",
   "pygments_lexer": "ipython3",
   "version": "3.10.6"
  },
  "orig_nbformat": 4,
  "vscode": {
   "interpreter": {
    "hash": "369f2c481f4da34e4445cda3fffd2e751bd1c4d706f27375911949ba6bb62e1c"
   }
  }
 },
 "nbformat": 4,
 "nbformat_minor": 2
}

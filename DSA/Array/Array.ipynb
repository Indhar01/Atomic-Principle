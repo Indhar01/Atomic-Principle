{
 "cells": [
  {
   "cell_type": "code",
   "execution_count": null,
   "metadata": {},
   "outputs": [],
   "source": []
  },
  {
   "attachments": {},
   "cell_type": "markdown",
   "metadata": {},
   "source": [
    "**Basic Operations:**\n",
    "\n",
    " - Searching in Array\n",
    " - Write a program to reverse an array\n",
    " - Left Rotate an Array\n",
    " - Right rotate an Array\n",
    " - Search, insert and delete in an unsorted array\n",
    " - Search, insert and delete in a sorted array\n",
    " - Sort an Array\n",
    " - Generate all subarrays"
   ]
  },
  {
   "attachments": {},
   "cell_type": "markdown",
   "metadata": {},
   "source": [
    "**Searching in Array**\n",
    "\n"
   ]
  },
  {
   "attachments": {},
   "cell_type": "markdown",
   "metadata": {},
   "source": [
    "<input type=\"checkbox\" checked>  Find the largest three distinct elements in an array"
   ]
  },
  {
   "cell_type": "markdown",
   "metadata": {},
   "source": [
    "<input type=\"checkbox\" checked>  Find the largest three distinct elements in an array"
   ]
  },
  {
   "attachments": {},
   "cell_type": "markdown",
   "metadata": {},
   "source": [
    "\n",
    "<h3>Find the largest three distinct elements in an array</h3>\n",
    "\n",
    "Given an array with all distinct elements, find the largest three elements. Expected time complexity is O(n) and extra space is O(1).\n",
    "\n",
    "**Examples :**\n",
    "\n",
    "Input: arr[] = {10, 4, 3, 50, 23, 90}\n",
    "Output: 90, 50, 23"
   ]
  },
  {
   "cell_type": "code",
   "execution_count": 12,
   "metadata": {},
   "outputs": [
    {
     "name": "stdout",
     "output_type": "stream",
     "text": [
      "[90, 50, 23]\n"
     ]
    }
   ],
   "source": [
    "#arr=list(map(int,input().strip()))\n",
    "arr=[10,4,3,50,23,90]\n",
    "res=[]\n",
    "i=0\n",
    "while i<3:\n",
    "    value=max(arr)\n",
    "    if max(arr) not in res:\n",
    "        res.append(value)\n",
    "        arr.remove(value)\n",
    "    i+=1\n",
    "\n",
    "print(res)"
   ]
  },
  {
   "cell_type": "markdown",
   "metadata": {},
   "source": []
  },
  {
   "cell_type": "code",
   "execution_count": null,
   "metadata": {},
   "outputs": [],
   "source": []
  }
 ],
 "metadata": {
  "kernelspec": {
   "display_name": "Python 3",
   "language": "python",
   "name": "python3"
  },
  "language_info": {
   "codemirror_mode": {
    "name": "ipython",
    "version": 3
   },
   "file_extension": ".py",
   "mimetype": "text/x-python",
   "name": "python",
   "nbconvert_exporter": "python",
   "pygments_lexer": "ipython3",
   "version": "3.10.6"
  },
  "orig_nbformat": 4,
  "vscode": {
   "interpreter": {
    "hash": "369f2c481f4da34e4445cda3fffd2e751bd1c4d706f27375911949ba6bb62e1c"
   }
  }
 },
 "nbformat": 4,
 "nbformat_minor": 2
}
